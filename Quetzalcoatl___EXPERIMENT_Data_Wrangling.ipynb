{
 "cells": [
  {
   "cell_type": "markdown",
   "id": "987c6450",
   "metadata": {},
   "source": [
    "# DATA WRANGLING\n",
    "*Kyllian Beguin*  \n",
    "Exract data from Twitter API and run some data wrangling magic on it"
   ]
  },
  {
   "cell_type": "markdown",
   "id": "5a41d5a7",
   "metadata": {},
   "source": [
    "## FIRST TEST \n",
    "Open the data_PekinExpress.json and make a Pandas dataframe  \n",
    "## TO DO\n",
    "1. *Run some aggregation and data manipulation on it*"
   ]
  },
  {
   "cell_type": "code",
   "execution_count": 1,
   "id": "4ae4f1f4",
   "metadata": {},
   "outputs": [],
   "source": [
    "import json\n",
    "import pandas as pd\n",
    "\n",
    "def open_json(JSON):\n",
    "    '''\n",
    "    Open the json file that contains the Twitter data from API\n",
    "    '''\n",
    "\n",
    "    # Opening JSON file\n",
    "    with open(JSON, \"r\") as f:\n",
    "\n",
    "        # returns JSON object as a dictionary\n",
    "        data = json.load(f)\n",
    "\n",
    "    print(\"Data extracted from json file\")\n",
    "\n",
    "    return data['data']\n",
    "\n",
    "def json_to_dataframe(DATA):\n",
    "    '''\n",
    "    Make the dataframe out of the data contained in the json\n",
    "    '''\n",
    "\n",
    "    # Get the columns for the dataframe\n",
    "    columns_df = list(DATA[0].keys())\n",
    "\n",
    "    # Aggregate the data and store it to another dictionnary\n",
    "    df_data = [[i[columns_df[j]] for i in DATA] for j in range(len(columns_df))]\n",
    "    df_dict = {}\n",
    "    for i in range(len(columns_df)):\n",
    "        df_dict[columns_df[i]] = df_data[i]\n",
    "\n",
    "    # Make the dataframe out of the aggregated data\n",
    "    df = pd.DataFrame(df_dict)\n",
    "\n",
    "    # Turn the created_at data into a Timestamp data\n",
    "    df['created_at']= pd.to_datetime(df['created_at'])\n",
    "\n",
    "    print(\"Json file transformed into a dataframe\")\n",
    "\n",
    "    return df\n",
    "\n",
    "def load_dataset(JSON):\n",
    "    '''\n",
    "    Load the csv file that contains all the data (= central csv file)\n",
    "    '''\n",
    "    try:\n",
    "        df = pd.read_csv(JSON.replace(\".json\", \".csv\"))\n",
    "        print(\"Central dataset loaded\")\n",
    "\n",
    "    except:\n",
    "        df = 0\n",
    "        print(\"Central dataset created\")\n",
    "\n",
    "    return df\n",
    "\n",
    "def append_and_save_dataset(DF_insert, DF, JSON):\n",
    "    '''\n",
    "    Append the new data to the central csv file\n",
    "    Save de central csv file\n",
    "    '''\n",
    "\n",
    "    try:\n",
    "        DF = pd.concat([DF_insert, DF]).reset_index(drop = True)\n",
    "        DF.to_csv(JSON.replace(\".json\", \".csv\"), index = False)\n",
    "\n",
    "    except:\n",
    "        DF.to_csv(JSON.replace(\".json\", \".csv\"), index = False)\n",
    "\n",
    "    print(\"Central dataset updated and saved\")\n",
    "\n",
    "    return "
   ]
  },
  {
   "cell_type": "code",
   "execution_count": 2,
   "id": "2ae740fe",
   "metadata": {
    "collapsed": true
   },
   "outputs": [
    {
     "ename": "JSONDecodeError",
     "evalue": "Extra data: line 1 column 22725 (char 22724)",
     "output_type": "error",
     "traceback": [
      "\u001b[0;31m---------------------------------------------------------------------------\u001b[0m",
      "\u001b[0;31mJSONDecodeError\u001b[0m                           Traceback (most recent call last)",
      "Input \u001b[0;32mIn [2]\u001b[0m, in \u001b[0;36m<cell line: 1>\u001b[0;34m()\u001b[0m\n\u001b[0;32m----> 1\u001b[0m DATA \u001b[38;5;241m=\u001b[39m \u001b[43mopen_json\u001b[49m\u001b[43m(\u001b[49m\u001b[38;5;124;43m\"\u001b[39;49m\u001b[38;5;124;43mdata_StadedeFrance.json\u001b[39;49m\u001b[38;5;124;43m\"\u001b[39;49m\u001b[43m)\u001b[49m\n\u001b[1;32m      2\u001b[0m DF \u001b[38;5;241m=\u001b[39m json_to_dataframe(DATA)\n\u001b[1;32m      3\u001b[0m DF_insert \u001b[38;5;241m=\u001b[39m load_dataset(JSON)\n",
      "Input \u001b[0;32mIn [1]\u001b[0m, in \u001b[0;36mopen_json\u001b[0;34m(JSON)\u001b[0m\n\u001b[1;32m      9\u001b[0m \u001b[38;5;66;03m# Opening JSON file\u001b[39;00m\n\u001b[1;32m     10\u001b[0m \u001b[38;5;28;01mwith\u001b[39;00m \u001b[38;5;28mopen\u001b[39m(JSON, \u001b[38;5;124m\"\u001b[39m\u001b[38;5;124mr\u001b[39m\u001b[38;5;124m\"\u001b[39m) \u001b[38;5;28;01mas\u001b[39;00m f:\n\u001b[1;32m     11\u001b[0m \n\u001b[1;32m     12\u001b[0m     \u001b[38;5;66;03m# returns JSON object as a dictionary\u001b[39;00m\n\u001b[0;32m---> 13\u001b[0m     data \u001b[38;5;241m=\u001b[39m \u001b[43mjson\u001b[49m\u001b[38;5;241;43m.\u001b[39;49m\u001b[43mload\u001b[49m\u001b[43m(\u001b[49m\u001b[43mf\u001b[49m\u001b[43m)\u001b[49m\n\u001b[1;32m     15\u001b[0m \u001b[38;5;28mprint\u001b[39m(\u001b[38;5;124m\"\u001b[39m\u001b[38;5;124mData extracted from json file\u001b[39m\u001b[38;5;124m\"\u001b[39m)\n\u001b[1;32m     17\u001b[0m \u001b[38;5;28;01mreturn\u001b[39;00m data[\u001b[38;5;124m'\u001b[39m\u001b[38;5;124mdata\u001b[39m\u001b[38;5;124m'\u001b[39m]\n",
      "File \u001b[0;32m/usr/lib/python3.8/json/__init__.py:293\u001b[0m, in \u001b[0;36mload\u001b[0;34m(fp, cls, object_hook, parse_float, parse_int, parse_constant, object_pairs_hook, **kw)\u001b[0m\n\u001b[1;32m    274\u001b[0m \u001b[38;5;28;01mdef\u001b[39;00m \u001b[38;5;21mload\u001b[39m(fp, \u001b[38;5;241m*\u001b[39m, \u001b[38;5;28mcls\u001b[39m\u001b[38;5;241m=\u001b[39m\u001b[38;5;28;01mNone\u001b[39;00m, object_hook\u001b[38;5;241m=\u001b[39m\u001b[38;5;28;01mNone\u001b[39;00m, parse_float\u001b[38;5;241m=\u001b[39m\u001b[38;5;28;01mNone\u001b[39;00m,\n\u001b[1;32m    275\u001b[0m         parse_int\u001b[38;5;241m=\u001b[39m\u001b[38;5;28;01mNone\u001b[39;00m, parse_constant\u001b[38;5;241m=\u001b[39m\u001b[38;5;28;01mNone\u001b[39;00m, object_pairs_hook\u001b[38;5;241m=\u001b[39m\u001b[38;5;28;01mNone\u001b[39;00m, \u001b[38;5;241m*\u001b[39m\u001b[38;5;241m*\u001b[39mkw):\n\u001b[1;32m    276\u001b[0m     \u001b[38;5;124;03m\"\"\"Deserialize ``fp`` (a ``.read()``-supporting file-like object containing\u001b[39;00m\n\u001b[1;32m    277\u001b[0m \u001b[38;5;124;03m    a JSON document) to a Python object.\u001b[39;00m\n\u001b[1;32m    278\u001b[0m \n\u001b[0;32m   (...)\u001b[0m\n\u001b[1;32m    291\u001b[0m \u001b[38;5;124;03m    kwarg; otherwise ``JSONDecoder`` is used.\u001b[39;00m\n\u001b[1;32m    292\u001b[0m \u001b[38;5;124;03m    \"\"\"\u001b[39;00m\n\u001b[0;32m--> 293\u001b[0m     \u001b[38;5;28;01mreturn\u001b[39;00m \u001b[43mloads\u001b[49m\u001b[43m(\u001b[49m\u001b[43mfp\u001b[49m\u001b[38;5;241;43m.\u001b[39;49m\u001b[43mread\u001b[49m\u001b[43m(\u001b[49m\u001b[43m)\u001b[49m\u001b[43m,\u001b[49m\n\u001b[1;32m    294\u001b[0m \u001b[43m        \u001b[49m\u001b[38;5;28;43mcls\u001b[39;49m\u001b[38;5;241;43m=\u001b[39;49m\u001b[38;5;28;43mcls\u001b[39;49m\u001b[43m,\u001b[49m\u001b[43m \u001b[49m\u001b[43mobject_hook\u001b[49m\u001b[38;5;241;43m=\u001b[39;49m\u001b[43mobject_hook\u001b[49m\u001b[43m,\u001b[49m\n\u001b[1;32m    295\u001b[0m \u001b[43m        \u001b[49m\u001b[43mparse_float\u001b[49m\u001b[38;5;241;43m=\u001b[39;49m\u001b[43mparse_float\u001b[49m\u001b[43m,\u001b[49m\u001b[43m \u001b[49m\u001b[43mparse_int\u001b[49m\u001b[38;5;241;43m=\u001b[39;49m\u001b[43mparse_int\u001b[49m\u001b[43m,\u001b[49m\n\u001b[1;32m    296\u001b[0m \u001b[43m        \u001b[49m\u001b[43mparse_constant\u001b[49m\u001b[38;5;241;43m=\u001b[39;49m\u001b[43mparse_constant\u001b[49m\u001b[43m,\u001b[49m\u001b[43m \u001b[49m\u001b[43mobject_pairs_hook\u001b[49m\u001b[38;5;241;43m=\u001b[39;49m\u001b[43mobject_pairs_hook\u001b[49m\u001b[43m,\u001b[49m\u001b[43m \u001b[49m\u001b[38;5;241;43m*\u001b[39;49m\u001b[38;5;241;43m*\u001b[39;49m\u001b[43mkw\u001b[49m\u001b[43m)\u001b[49m\n",
      "File \u001b[0;32m/usr/lib/python3.8/json/__init__.py:357\u001b[0m, in \u001b[0;36mloads\u001b[0;34m(s, cls, object_hook, parse_float, parse_int, parse_constant, object_pairs_hook, **kw)\u001b[0m\n\u001b[1;32m    352\u001b[0m     \u001b[38;5;28;01mdel\u001b[39;00m kw[\u001b[38;5;124m'\u001b[39m\u001b[38;5;124mencoding\u001b[39m\u001b[38;5;124m'\u001b[39m]\n\u001b[1;32m    354\u001b[0m \u001b[38;5;28;01mif\u001b[39;00m (\u001b[38;5;28mcls\u001b[39m \u001b[38;5;129;01mis\u001b[39;00m \u001b[38;5;28;01mNone\u001b[39;00m \u001b[38;5;129;01mand\u001b[39;00m object_hook \u001b[38;5;129;01mis\u001b[39;00m \u001b[38;5;28;01mNone\u001b[39;00m \u001b[38;5;129;01mand\u001b[39;00m\n\u001b[1;32m    355\u001b[0m         parse_int \u001b[38;5;129;01mis\u001b[39;00m \u001b[38;5;28;01mNone\u001b[39;00m \u001b[38;5;129;01mand\u001b[39;00m parse_float \u001b[38;5;129;01mis\u001b[39;00m \u001b[38;5;28;01mNone\u001b[39;00m \u001b[38;5;129;01mand\u001b[39;00m\n\u001b[1;32m    356\u001b[0m         parse_constant \u001b[38;5;129;01mis\u001b[39;00m \u001b[38;5;28;01mNone\u001b[39;00m \u001b[38;5;129;01mand\u001b[39;00m object_pairs_hook \u001b[38;5;129;01mis\u001b[39;00m \u001b[38;5;28;01mNone\u001b[39;00m \u001b[38;5;129;01mand\u001b[39;00m \u001b[38;5;129;01mnot\u001b[39;00m kw):\n\u001b[0;32m--> 357\u001b[0m     \u001b[38;5;28;01mreturn\u001b[39;00m \u001b[43m_default_decoder\u001b[49m\u001b[38;5;241;43m.\u001b[39;49m\u001b[43mdecode\u001b[49m\u001b[43m(\u001b[49m\u001b[43ms\u001b[49m\u001b[43m)\u001b[49m\n\u001b[1;32m    358\u001b[0m \u001b[38;5;28;01mif\u001b[39;00m \u001b[38;5;28mcls\u001b[39m \u001b[38;5;129;01mis\u001b[39;00m \u001b[38;5;28;01mNone\u001b[39;00m:\n\u001b[1;32m    359\u001b[0m     \u001b[38;5;28mcls\u001b[39m \u001b[38;5;241m=\u001b[39m JSONDecoder\n",
      "File \u001b[0;32m/usr/lib/python3.8/json/decoder.py:340\u001b[0m, in \u001b[0;36mJSONDecoder.decode\u001b[0;34m(self, s, _w)\u001b[0m\n\u001b[1;32m    338\u001b[0m end \u001b[38;5;241m=\u001b[39m _w(s, end)\u001b[38;5;241m.\u001b[39mend()\n\u001b[1;32m    339\u001b[0m \u001b[38;5;28;01mif\u001b[39;00m end \u001b[38;5;241m!=\u001b[39m \u001b[38;5;28mlen\u001b[39m(s):\n\u001b[0;32m--> 340\u001b[0m     \u001b[38;5;28;01mraise\u001b[39;00m JSONDecodeError(\u001b[38;5;124m\"\u001b[39m\u001b[38;5;124mExtra data\u001b[39m\u001b[38;5;124m\"\u001b[39m, s, end)\n\u001b[1;32m    341\u001b[0m \u001b[38;5;28;01mreturn\u001b[39;00m obj\n",
      "\u001b[0;31mJSONDecodeError\u001b[0m: Extra data: line 1 column 22725 (char 22724)"
     ]
    }
   ],
   "source": [
    "DATA = open_json(\"data_StadedeFrance.json\")\n",
    "DF = json_to_dataframe(DATA)\n",
    "DF_insert = load_dataset(JSON)\n",
    "append_and_save_dataset(DF_insert, DF, JSON)"
   ]
  },
  {
   "cell_type": "code",
   "execution_count": 11,
   "id": "9f539544",
   "metadata": {},
   "outputs": [],
   "source": [
    "with open(\"titreJSON\", \"r\") as f:\n",
    "    JSON = f.read()[:-1]"
   ]
  },
  {
   "cell_type": "code",
   "execution_count": 12,
   "id": "76e16135",
   "metadata": {},
   "outputs": [
    {
     "data": {
      "text/plain": [
       "'data_NintendoSwitch.json\\ndata_StadedeFrance.json'"
      ]
     },
     "execution_count": 12,
     "metadata": {},
     "output_type": "execute_result"
    }
   ],
   "source": [
    "JSON"
   ]
  },
  {
   "cell_type": "code",
   "execution_count": 29,
   "id": "4a2c0c61",
   "metadata": {},
   "outputs": [],
   "source": [
    "df = pd.read_csv(\"data_PekinExpress.csv\")"
   ]
  },
  {
   "cell_type": "code",
   "execution_count": 30,
   "id": "edc4fe26",
   "metadata": {},
   "outputs": [
    {
     "data": {
      "text/plain": [
       "1000"
      ]
     },
     "execution_count": 30,
     "metadata": {},
     "output_type": "execute_result"
    }
   ],
   "source": [
    "len(df)"
   ]
  },
  {
   "cell_type": "code",
   "execution_count": 28,
   "id": "dd39950d",
   "metadata": {},
   "outputs": [
    {
     "name": "stdout",
     "output_type": "stream",
     "text": [
      "RT @SebM93_: Mdr l’handicape de Xavier c’est absolument pas Le poisson et la meuf mais bien Yohan Riou #PekinExpress \n",
      "Il est intenable 😂 il…\n"
     ]
    }
   ],
   "source": [
    "# df.tail(5)\n",
    "print(df.loc[599, 'text'])"
   ]
  }
 ],
 "metadata": {
  "kernelspec": {
   "display_name": "Python 3 (ipykernel)",
   "language": "python",
   "name": "python3"
  },
  "language_info": {
   "codemirror_mode": {
    "name": "ipython",
    "version": 3
   },
   "file_extension": ".py",
   "mimetype": "text/x-python",
   "name": "python",
   "nbconvert_exporter": "python",
   "pygments_lexer": "ipython3",
   "version": "3.8.10"
  }
 },
 "nbformat": 4,
 "nbformat_minor": 5
}
