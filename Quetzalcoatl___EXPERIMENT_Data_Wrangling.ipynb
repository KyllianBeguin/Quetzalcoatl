{
 "cells": [
  {
   "cell_type": "markdown",
   "id": "987c6450",
   "metadata": {},
   "source": [
    "# DATA WRANGLING\n",
    "*Kyllian Beguin*  \n",
    "Exract data from Twitter API and run some data wrangling magic on it"
   ]
  },
  {
   "cell_type": "markdown",
   "id": "5a41d5a7",
   "metadata": {},
   "source": [
    "## FIRST TEST \n",
    "Open the data_PekinExpress.json and make a Pandas dataframe  "
   ]
  },
  {
   "cell_type": "code",
   "execution_count": 32,
   "id": "4ae4f1f4",
   "metadata": {},
   "outputs": [],
   "source": [
    "import json\n",
    "import pandas as pd\n",
    "\n",
    "def make_dataframe(JSON):\n",
    "    \n",
    "    def open_json(JSON):\n",
    "        '''\n",
    "        Open the json file that contains the Twitter data from API\n",
    "        '''\n",
    "        \n",
    "        # Opening JSON file\n",
    "        f = open(JSON)\n",
    "\n",
    "        # returns JSON object as a dictionary\n",
    "        data = json.load(f)\n",
    "        \n",
    "        return data['data']\n",
    "    \n",
    "    def json_to_dataframe(DATA):\n",
    "        '''\n",
    "        Make the dataframe out of the data contained in the json\n",
    "        '''\n",
    "        \n",
    "        # Get the columns for the dataframe\n",
    "        columns_df = list(DATA[0].keys())\n",
    "        \n",
    "        # Aggregate the data and store it to another dictionnary\n",
    "        df_data = [[i[columns_df[j]] for i in DATA] for j in range(len(columns_df))]\n",
    "        df_dict = {}\n",
    "        for i in range(len(columns_df)):\n",
    "            df_dict[columns_df[i]] = df_data[i]\n",
    "        \n",
    "        # Make the dataframe out of the aggregated data\n",
    "        df = pd.DataFrame(df_dict)\n",
    "        \n",
    "        # Turn the created_at data into a Timestamp data\n",
    "        df['created_at']= pd.to_datetime(df['created_at'])\n",
    "        \n",
    "        return df\n",
    "    \n",
    "    DATA = open_json(JSON)\n",
    "    \n",
    "    df = json_to_dataframe(DATA)\n",
    "    \n",
    "    return df\n",
    "  \n",
    "\n"
   ]
  },
  {
   "cell_type": "code",
   "execution_count": 33,
   "id": "17432bd5",
   "metadata": {},
   "outputs": [],
   "source": [
    "df = make_dataframe('data_PekinExpress.json')"
   ]
  },
  {
   "cell_type": "code",
   "execution_count": 34,
   "id": "c629d002",
   "metadata": {},
   "outputs": [
    {
     "data": {
      "text/html": [
       "<div>\n",
       "<style scoped>\n",
       "    .dataframe tbody tr th:only-of-type {\n",
       "        vertical-align: middle;\n",
       "    }\n",
       "\n",
       "    .dataframe tbody tr th {\n",
       "        vertical-align: top;\n",
       "    }\n",
       "\n",
       "    .dataframe thead th {\n",
       "        text-align: right;\n",
       "    }\n",
       "</style>\n",
       "<table border=\"1\" class=\"dataframe\">\n",
       "  <thead>\n",
       "    <tr style=\"text-align: right;\">\n",
       "      <th></th>\n",
       "      <th>created_at</th>\n",
       "      <th>id</th>\n",
       "      <th>text</th>\n",
       "    </tr>\n",
       "  </thead>\n",
       "  <tbody>\n",
       "    <tr>\n",
       "      <th>0</th>\n",
       "      <td>2022-07-10 17:15:55+00:00</td>\n",
       "      <td>1546181436545216512</td>\n",
       "      <td>https://t.co/XvOxiSlo2h \\n#PekinExpress  Duos ...</td>\n",
       "    </tr>\n",
       "    <tr>\n",
       "      <th>1</th>\n",
       "      <td>2022-07-10 17:07:35+00:00</td>\n",
       "      <td>1546179336537079808</td>\n",
       "      <td>RT @Dotadasp: https://t.co/2WySu1gU4m\\n@ITrann...</td>\n",
       "    </tr>\n",
       "    <tr>\n",
       "      <th>2</th>\n",
       "      <td>2022-07-10 17:05:04+00:00</td>\n",
       "      <td>1546178705684369408</td>\n",
       "      <td>RT @M6: \"Je crois que je suis en train de tomb...</td>\n",
       "    </tr>\n",
       "    <tr>\n",
       "      <th>3</th>\n",
       "      <td>2022-07-10 16:56:37+00:00</td>\n",
       "      <td>1546176576252952576</td>\n",
       "      <td>#pekinexpress c'est normal de voir deux filles...</td>\n",
       "    </tr>\n",
       "  </tbody>\n",
       "</table>\n",
       "</div>"
      ],
      "text/plain": [
       "                 created_at                   id  \\\n",
       "0 2022-07-10 17:15:55+00:00  1546181436545216512   \n",
       "1 2022-07-10 17:07:35+00:00  1546179336537079808   \n",
       "2 2022-07-10 17:05:04+00:00  1546178705684369408   \n",
       "3 2022-07-10 16:56:37+00:00  1546176576252952576   \n",
       "\n",
       "                                                text  \n",
       "0  https://t.co/XvOxiSlo2h \\n#PekinExpress  Duos ...  \n",
       "1  RT @Dotadasp: https://t.co/2WySu1gU4m\\n@ITrann...  \n",
       "2  RT @M6: \"Je crois que je suis en train de tomb...  \n",
       "3  #pekinexpress c'est normal de voir deux filles...  "
      ]
     },
     "execution_count": 34,
     "metadata": {},
     "output_type": "execute_result"
    }
   ],
   "source": [
    "df.head(4)"
   ]
  },
  {
   "cell_type": "markdown",
   "id": "6cd52efa",
   "metadata": {},
   "source": [
    "*Up next : run some aggregation and data manipulation on it*"
   ]
  }
 ],
 "metadata": {
  "kernelspec": {
   "display_name": "Python 3 (ipykernel)",
   "language": "python",
   "name": "python3"
  },
  "language_info": {
   "codemirror_mode": {
    "name": "ipython",
    "version": 3
   },
   "file_extension": ".py",
   "mimetype": "text/x-python",
   "name": "python",
   "nbconvert_exporter": "python",
   "pygments_lexer": "ipython3",
   "version": "3.8.10"
  }
 },
 "nbformat": 4,
 "nbformat_minor": 5
}
